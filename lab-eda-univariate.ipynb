{
 "cells": [
  {
   "cell_type": "code",
   "execution_count": 26,
   "metadata": {},
   "outputs": [],
   "source": [
    "import pandas as pd\n",
    "import matplotlib.pyplot as plt\n",
    "import seaborn as sns\n"
   ]
  },
  {
   "cell_type": "code",
   "execution_count": null,
   "metadata": {},
   "outputs": [],
   "source": [
    "#Data loading and preprocessing\n",
    "data = pd.read_csv('data/amz_uk_price_prediction_dataset.csv')\n",
    "display(data.head(),data.shape)\n"
   ]
  },
  {
   "cell_type": "code",
   "execution_count": null,
   "metadata": {},
   "outputs": [],
   "source": [
    "#Generate a frequency table for the product category.\n",
    "category_freq = data['category'].value_counts()\n",
    "display(category_freq)"
   ]
  },
  {
   "cell_type": "code",
   "execution_count": null,
   "metadata": {},
   "outputs": [],
   "source": [
    "top_categories = category_freq.head(5)\n",
    "display(top_categories)"
   ]
  },
  {
   "cell_type": "code",
   "execution_count": null,
   "metadata": {},
   "outputs": [],
   "source": [
    "#Display the distribution of products across different categories using a bar chart.\n",
    "\n",
    "plt.figure(figsize=(10,5))\n",
    "sns.barplot(x=category_freq.head(20).index, y=category_freq.head(20).values)\n",
    "plt.xticks(rotation=90)\n",
    "plt.xlabel('Category')\n",
    "plt.ylabel('Frequency')\n",
    "plt.show()\n"
   ]
  },
  {
   "cell_type": "code",
   "execution_count": null,
   "metadata": {},
   "outputs": [],
   "source": [
    "#For a subset of top categories, visualize their proportions using a pie chart.\n",
    "top_categories.plot.pie(y='count', autopct='%1.1f%%', figsize=(8, 8), legend=False)\n",
    "plt.ylabel('')\n",
    "plt.title('Proportion of Top Categories')\n",
    "plt.show()\n",
    "\n",
    "#Sports & Outdoors dominates the listings\n",
    "\n"
   ]
  },
  {
   "cell_type": "code",
   "execution_count": null,
   "metadata": {},
   "outputs": [],
   "source": [
    "#Calculate the mean, median, and mode for the price of products.\n",
    "price_mean = data['price'].mean()\n",
    "price_median = data['price'].median()\n",
    "price_mode = data['price'].mode()\n",
    "\n",
    "#What's the average price point of products listed? How does this compare with the most common price point (mode)?\n",
    "print(f\"Mean Price: {price_mean}\", f\"Median Price: {price_median}\", f\"Mode Price: {price_mode}\", sep='\\n')\n",
    "#The average price point of products listed is 89, while the most common price point (mode) is 9.99.\n"
   ]
  },
  {
   "cell_type": "code",
   "execution_count": null,
   "metadata": {},
   "outputs": [],
   "source": [
    "#Determine the variance, standard deviation, range, and interquartile range for product price.\n",
    "price_variance = data['price'].var()\n",
    "price_std_dev = data['price'].std()\n",
    "price_range = data['price'].max() - data['price'].min()\n",
    "price_iqr = data['price'].quantile(0.75) - data['price'].quantile(0.25)\n",
    "\n",
    "print(f\"Variance: {price_variance}\", f\"Standard Deviation: {price_std_dev}\", f\"Range: {price_range}\", f\"Interquartile Range: {price_iqr}\", sep='\\n')\n",
    "\n",
    "#How varied are the product prices? Are there any indicators of a significant spread in prices?\n",
    "#The variance and standard deviation of the product prices are quite high, indicating a significant spread in prices.\n"
   ]
  },
  {
   "cell_type": "code",
   "execution_count": null,
   "metadata": {},
   "outputs": [],
   "source": [
    "#Plot a histogram to visualize the distribution of product prices.\n",
    "plt.figure(figsize=(10,5))\n",
    "sns.histplot(data['price'], bins=30)\n",
    "plt.xlabel('Price')\n",
    "plt.ylabel('Frequency')\n",
    "plt.show()\n",
    "\n",
    "#If its hard to read these diagrams, think why this is, and explain how it could be solved. :\n",
    "# Too many low priced products are making it hard to read the histogram. We could use a subset, or ranges.\n"
   ]
  },
  {
   "cell_type": "code",
   "execution_count": null,
   "metadata": {},
   "outputs": [],
   "source": [
    "#Use a box plot to showcase the spread and potential outliers in product pricing.\n",
    "plt.figure(figsize=(10,5))\n",
    "sns.boxplot(data['price'])\n",
    "plt.xlabel('Price')\n",
    "plt.show()\n"
   ]
  },
  {
   "cell_type": "code",
   "execution_count": null,
   "metadata": {},
   "outputs": [],
   "source": [
    "\"\"\" Business Question: How do customers rate products on Amazon UK, and are there any patterns or tendencies in the ratings?\n",
    "\n",
    "Measures of Centrality:\n",
    "\n",
    "Calculate the mean, median, and mode for the rating of products.\n",
    "How do customers generally rate products? Is there a common trend?\n",
    "Measures of Dispersion:\n",
    "\n",
    "Determine the variance, standard deviation, and interquartile range for product rating.\n",
    "Are the ratings consistent, or is there a wide variation in customer feedback?\n",
    "Shape of the Distribution:\n",
    "\n",
    "Calculate the skewness and kurtosis for the rating column.\n",
    "Are the ratings normally distributed, or do they lean towards higher or lower values?\n",
    "Visualizations:\n",
    "\n",
    "Plot a histogram to visualize the distribution of product ratings. Is there a specific rating that is more common? \"\"\"\n",
    "\n",
    "#Calculate the mean, median, and mode for the rating of products.\n",
    "\n",
    "ratings = data[data['stars'] != 0]\n",
    "rating_mean = ratings['stars'].mean()\n",
    "rating_median = ratings['stars'].median()\n",
    "rating_mode = ratings['stars'].mode()\n",
    "\n",
    "display(rating_mean, rating_median, rating_mode)\n",
    "#products are generally rated around 4.5 stars\n",
    "\n",
    "# Determine the variance, standard deviation, and interquartile range for product rating.\n",
    "rating_variance = ratings['stars'].var()\n",
    "rating_std_dev = ratings['stars'].std()\n",
    "rating_iqr = ratings['stars'].quantile(0.75) - ratings['stars'].quantile(0.25)\n",
    "\n",
    "display(rating_variance, rating_std_dev, rating_iqr)\n",
    "\n",
    "#Are the ratings consistent, or is there a wide variation in customer feedback?\n",
    "#The variance and standard deviation of the ratings are relatively low, indicating that there is not a wide variation in customer feedback.\n",
    "\n",
    "#Calculate the skewness and kurtosis for the rating column.\n",
    "rating_skewness = ratings['stars'].skew()\n",
    "rating_kurtosis = ratings['stars'].kurt()\n",
    "\n",
    "display(rating_skewness, rating_kurtosis)\n",
    "\n",
    "#(skewness:-2.28, kurtosis: 9.78) Are the ratings normally distributed, or do they lean towards higher or lower values?\n",
    "#The skewness value of -2.28 indicates that the ratings are negatively skewed, leaning towards higher values. The kurtosis value of 9.78 indicates that the distribution has heavy tails and is leptokurtic.\n",
    "\n",
    "#graphical representation\n",
    "plt.figure(figsize=(10,5))\n",
    "sns.histplot(ratings['stars'])\n",
    "plt.xlabel('Rating')\n",
    "plt.ylabel('Frequency')\n",
    "plt.show()\n",
    "\n",
    "#4.5 is the most common rating, followed by 5.0"
   ]
  }
 ],
 "metadata": {
  "kernelspec": {
   "display_name": "base",
   "language": "python",
   "name": "python3"
  },
  "language_info": {
   "codemirror_mode": {
    "name": "ipython",
    "version": 3
   },
   "file_extension": ".py",
   "mimetype": "text/x-python",
   "name": "python",
   "nbconvert_exporter": "python",
   "pygments_lexer": "ipython3",
   "version": "3.12.4"
  }
 },
 "nbformat": 4,
 "nbformat_minor": 2
}
