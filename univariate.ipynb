{
 "cells": [
  {
   "cell_type": "code",
   "execution_count": 14,
   "metadata": {},
   "outputs": [],
   "source": [
    "import pandas as pd\n",
    "import matplotlib.pyplot as plt\n",
    "import seaborn as sns\n"
   ]
  },
  {
   "cell_type": "code",
   "execution_count": null,
   "metadata": {},
   "outputs": [],
   "source": [
    "#Data loading and preprocessing\n",
    "data = pd.read_csv('data/amz_uk_price_prediction_dataset.csv')\n",
    "display(data.head(),data.shape)\n"
   ]
  },
  {
   "cell_type": "code",
   "execution_count": null,
   "metadata": {},
   "outputs": [],
   "source": [
    "#Generate a frequency table for the product category.\n",
    "category_freq = data['category'].value_counts()\n",
    "display(category_freq)"
   ]
  },
  {
   "cell_type": "code",
   "execution_count": null,
   "metadata": {},
   "outputs": [],
   "source": [
    "top_categories = category_freq.head(5)\n",
    "display(top_categories)"
   ]
  },
  {
   "cell_type": "code",
   "execution_count": null,
   "metadata": {},
   "outputs": [],
   "source": [
    "#Display the distribution of products across different categories using a bar chart.\n",
    "\n",
    "plt.figure(figsize=(10,5))\n",
    "sns.barplot(x=category_freq.head(20).index, y=category_freq.head(20).values)\n",
    "plt.xticks(rotation=90)\n",
    "plt.xlabel('Category')\n",
    "plt.ylabel('Frequency')\n",
    "plt.show()\n"
   ]
  },
  {
   "cell_type": "code",
   "execution_count": null,
   "metadata": {},
   "outputs": [],
   "source": [
    "#For a subset of top categories, visualize their proportions using a pie chart.\n",
    "top_categories.plot.pie(y='count', autopct='%1.1f%%', figsize=(8, 8), legend=False)\n",
    "plt.ylabel('')\n",
    "plt.title('Proportion of Top Categories')\n",
    "plt.show()\n",
    "\n"
   ]
  },
  {
   "cell_type": "code",
   "execution_count": null,
   "metadata": {},
   "outputs": [],
   "source": [
    "#Calculate the mean, median, and mode for the price of products.\n",
    "price_mean = data['price'].mean()\n",
    "price_median = data['price'].median()\n",
    "price_mode = data['price'].mode()\n",
    "\n",
    "#What's the average price point of products listed? How does this compare with the most common price point (mode)?\n",
    "print(f\"Mean Price: {price_mean}\", f\"Median Price: {price_median}\", f\"Mode Price: {price_mode}\", sep='\\n')\n",
    "#The average price point of products listed is 89, while the most common price point (mode) is 9.99.\n"
   ]
  },
  {
   "cell_type": "code",
   "execution_count": null,
   "metadata": {},
   "outputs": [],
   "source": [
    "#Determine the variance, standard deviation, range, and interquartile range for product price.\n",
    "price_variance = data['price'].var()\n",
    "price_std_dev = data['price'].std()\n",
    "price_range = data['price'].max() - data['price'].min()\n",
    "price_iqr = data['price'].quantile(0.75) - data['price'].quantile(0.25)\n",
    "\n",
    "print(f\"Variance: {price_variance}\", f\"Standard Deviation: {price_std_dev}\", f\"Range: {price_range}\", f\"Interquartile Range: {price_iqr}\", sep='\\n')\n",
    "\n",
    "#How varied are the product prices? Are there any indicators of a significant spread in prices?\n",
    "#The variance and standard deviation of the product prices are quite high, indicating a significant spread in prices.\n"
   ]
  },
  {
   "cell_type": "code",
   "execution_count": null,
   "metadata": {},
   "outputs": [],
   "source": [
    "#Plot a histogram to visualize the distribution of product prices.\n",
    "plt.figure(figsize=(10,5))\n",
    "sns.histplot(data['price'], bins=30)\n",
    "plt.xlabel('Price')\n",
    "plt.ylabel('Frequency')\n",
    "plt.show()\n",
    "\n",
    "#If its hard to read these diagrams, think why this is, and explain how it could be solved. :\n",
    "# Too many low priced products are making it hard to read the histogram. We could use a subset, or ranges.\n"
   ]
  },
  {
   "cell_type": "code",
   "execution_count": null,
   "metadata": {},
   "outputs": [],
   "source": [
    "#Use a box plot to showcase the spread and potential outliers in product pricing.\n",
    "plt.figure(figsize=(10,5))\n",
    "sns.boxplot(data['price'])\n",
    "plt.xlabel('Price')\n",
    "plt.show()\n"
   ]
  }
 ],
 "metadata": {
  "kernelspec": {
   "display_name": "base",
   "language": "python",
   "name": "python3"
  },
  "language_info": {
   "codemirror_mode": {
    "name": "ipython",
    "version": 3
   },
   "file_extension": ".py",
   "mimetype": "text/x-python",
   "name": "python",
   "nbconvert_exporter": "python",
   "pygments_lexer": "ipython3",
   "version": "3.12.4"
  }
 },
 "nbformat": 4,
 "nbformat_minor": 2
}
